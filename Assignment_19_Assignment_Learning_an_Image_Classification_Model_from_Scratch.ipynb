{
 "cells": [
  {
   "cell_type": "markdown",
   "metadata": {
    "deletable": false,
    "editable": false,
    "id": "6gPnbsaceQND",
    "nbgrader": {
     "checksum": "037cc35dce3c9c73bb8791b55f6522d0",
     "grade": false,
     "grade_id": "cell-57f628ac86a92c86",
     "locked": true,
     "schema_version": 1,
     "solution": false
    }
   },
   "source": [
    "# Learning an Image Classification Model from Scratch\n"
   ]
  },
  {
   "cell_type": "markdown",
   "metadata": {
    "deletable": false,
    "editable": false,
    "id": "XuugnMmgfZDV",
    "nbgrader": {
     "checksum": "3713585e829a5dcb53577735d9c316ea",
     "grade": false,
     "grade_id": "cell-e2dd5fdb3e7091ec",
     "locked": true,
     "schema_version": 1,
     "solution": false
    }
   },
   "source": [
    "\n",
    "### The Fashion MNIST dataset\n",
    "\n",
    "\n",
    "\n",
    "The [fashion_mnist](https://github.com/zalandoresearch/fashion-mnist) dataset consists of 70,000 images of clothing items across 10 categories.\n",
    "\n",
    "![Fashion MNIST](https://raw.githubusercontent.com/zalandoresearch/fashion-mnist/master/doc/img/fashion-mnist-sprite.png)\n",
    "\n",
    "\n",
    "<br>\n",
    "\n",
    "Luckily for us, this dataset is available in a convenient format through Keras, so we will load it and take a look.\n",
    "\n",
    "But first, let's get the usual technical preliminaries out of the way."
   ]
  },
  {
   "cell_type": "markdown",
   "metadata": {
    "deletable": false,
    "editable": false,
    "id": "v97Gs8UY1neg",
    "nbgrader": {
     "checksum": "0a405063647e1d4e509a34a4b0571874",
     "grade": false,
     "grade_id": "cell-ae240010755475a1",
     "locked": true,
     "schema_version": 1,
     "solution": false
    }
   },
   "source": [
    "\n",
    "\n",
    "---\n",
    "\n",
    "\n",
    "\n",
    "---\n",
    "\n",
    "\n",
    "\n",
    "---\n",
    "\n",
    "\n",
    "As we did previously, we will first import the following packages and set the seed for the random number generator."
   ]
  },
  {
   "cell_type": "code",
   "execution_count": 3,
   "metadata": {
    "deletable": false,
    "editable": false,
    "id": "d44TznbgZZgm",
    "nbgrader": {
     "checksum": "13193fe9bf67f341920994d93f18c072",
     "grade": false,
     "grade_id": "cell-38d3d9a558d53bb0",
     "locked": true,
     "schema_version": 1,
     "solution": false
    }
   },
   "outputs": [],
   "source": [
    "import tensorflow as tf\n",
    "from tensorflow import keras\n",
    "import numpy as np\n",
    "import pandas as pd\n",
    "import matplotlib.pyplot as plt\n",
    "\n",
    "# initialize the seeds of different random number generators so that the \n",
    "# results will be the same every time the notebook is run\n",
    "# keras.utils.set_random_seed(42)\n",
    "tf.random.set_seed(42)"
   ]
  },
  {
   "cell_type": "markdown",
   "metadata": {
    "deletable": false,
    "editable": false,
    "id": "rvZaDndrQdUA",
    "nbgrader": {
     "checksum": "6a70a40472b243f3a4ff4c88173e9ce9",
     "grade": false,
     "grade_id": "cell-069241cf23f41ff1",
     "locked": true,
     "schema_version": 1,
     "solution": false
    }
   },
   "source": [
    "With the technical preliminaries out of the way, let's load the dataset and take a look."
   ]
  },
  {
   "cell_type": "code",
   "execution_count": 4,
   "metadata": {
    "colab": {
     "base_uri": "https://localhost:8080/"
    },
    "deletable": false,
    "id": "mZ3w2Dro2DwM",
    "nbgrader": {
     "checksum": "6b932ce86efd9d4c84f940df24a7aeee",
     "grade": false,
     "grade_id": "cell-b31028b2be5c6dda",
     "locked": false,
     "schema_version": 1,
     "solution": true
    },
    "outputId": "ee9fb49e-2e67-4948-b6ee-b5df067cc34d"
   },
   "outputs": [],
   "source": [
    "#load data into x_train, y_train, x_test, y_test\n",
    "# YOUR CODE HERE\n",
    "(x_train, y_train), (x_test, y_test) = keras.datasets.fashion_mnist.load_data()\n",
    "\n"
   ]
  },
  {
   "cell_type": "code",
   "execution_count": null,
   "metadata": {
    "deletable": false,
    "editable": false,
    "nbgrader": {
     "checksum": "8576660d8e392406f225888ad74b3a46",
     "grade": true,
     "grade_id": "cell-b741a5d7f8852057",
     "locked": true,
     "points": 1,
     "schema_version": 1,
     "solution": false
    }
   },
   "outputs": [],
   "source": []
  },
  {
   "cell_type": "code",
   "execution_count": 5,
   "metadata": {
    "colab": {
     "base_uri": "https://localhost:8080/"
    },
    "deletable": false,
    "editable": false,
    "id": "ygZACyx13Sda",
    "nbgrader": {
     "checksum": "4e9161927fbe6baee89dbc7d1a6b4085",
     "grade": false,
     "grade_id": "cell-c8894b3e0fbf2c0b",
     "locked": true,
     "schema_version": 1,
     "solution": false
    },
    "outputId": "023e25d0-82a9-43d5-a320-60273faa632b"
   },
   "outputs": [
    {
     "name": "stdout",
     "output_type": "stream",
     "text": [
      "(60000, 28, 28) (60000,)\n"
     ]
    }
   ],
   "source": [
    "print(x_train.shape, y_train.shape)"
   ]
  },
  {
   "cell_type": "markdown",
   "metadata": {
    "deletable": false,
    "editable": false,
    "id": "WeWgmto65f-o",
    "nbgrader": {
     "checksum": "7a9915638985dbacb55fc21c25aece13",
     "grade": false,
     "grade_id": "cell-358ad0679442b4f7",
     "locked": true,
     "schema_version": 1,
     "solution": false
    }
   },
   "source": [
    "There are 60,000 images in the training set, each of which is a 28x28 matrix. "
   ]
  },
  {
   "cell_type": "code",
   "execution_count": 6,
   "metadata": {
    "colab": {
     "base_uri": "https://localhost:8080/"
    },
    "deletable": false,
    "editable": false,
    "id": "RoIfZ5ly48Y-",
    "nbgrader": {
     "checksum": "d4ba0143d0877049bee144276a5f60cf",
     "grade": false,
     "grade_id": "cell-ff3b1e4b63a3d3fe",
     "locked": true,
     "schema_version": 1,
     "solution": false
    },
    "outputId": "dc908d9e-8398-4dfe-8955-4acd33ccebcf"
   },
   "outputs": [
    {
     "name": "stdout",
     "output_type": "stream",
     "text": [
      "(10000, 28, 28) (10000,)\n"
     ]
    }
   ],
   "source": [
    "print(x_test.shape, y_test.shape)"
   ]
  },
  {
   "cell_type": "markdown",
   "metadata": {
    "deletable": false,
    "editable": false,
    "id": "NNqLyCxO49OC",
    "nbgrader": {
     "checksum": "4ca6ae31981285706588b7edf133e566",
     "grade": false,
     "grade_id": "cell-5e2ba956adb6773b",
     "locked": true,
     "schema_version": 1,
     "solution": false
    }
   },
   "source": [
    "The remaining 10,000 images are in the test set.\n",
    "\n",
    "<br>\n",
    "\n",
    "OK, let's look at the first 10 rows of the dependent variable $y$.\n",
    "\n",
    "\n",
    "\n"
   ]
  },
  {
   "cell_type": "code",
   "execution_count": 7,
   "metadata": {
    "colab": {
     "base_uri": "https://localhost:8080/"
    },
    "deletable": false,
    "editable": false,
    "id": "MW787fAM_7Nb",
    "nbgrader": {
     "checksum": "318dc4663ed2855c2ed8eb978ac9cea5",
     "grade": false,
     "grade_id": "cell-cff714c8f9ef9f0e",
     "locked": true,
     "schema_version": 1,
     "solution": false
    },
    "outputId": "e301a40e-6557-45ac-aec3-2cc09cf1cf28"
   },
   "outputs": [
    {
     "data": {
      "text/plain": [
       "array([9, 0, 0, 3, 0, 2, 7, 2, 5, 5], dtype=uint8)"
      ]
     },
     "execution_count": 7,
     "metadata": {},
     "output_type": "execute_result"
    }
   ],
   "source": [
    "y_train[:10]"
   ]
  },
  {
   "cell_type": "markdown",
   "metadata": {
    "deletable": false,
    "editable": false,
    "id": "Gp7iGQ3Eg0Kq",
    "nbgrader": {
     "checksum": "895a0f7e32a8bdb51a1aeb8b19f6e497",
     "grade": false,
     "grade_id": "cell-ef0720e048130c38",
     "locked": true,
     "schema_version": 1,
     "solution": false
    }
   },
   "source": [
    "**What do these numbers mean?**\n",
    "\n",
    "According to the [Fashion MNIST Github site](https://github.com/zalandoresearch/fashion-mnist#labels), this is what each number 0-9 corresponds to:\n",
    "\n",
    "| Label  | Description  |\n",
    "|---|---|\n",
    "|  0 | T-shirt/top  |\n",
    "|  1 |  Trouser |\n",
    "|  2 |   Pullover |\n",
    "|  3 |  Dress |\n",
    "|  4 |  Coat |\n",
    "|  5 |  Sandal |\n",
    "|  6 |   Shirt |\n",
    "|  7 |  Sneaker |\n",
    "|  8 |   Bag |\n",
    "|  9 |  Ankle boot |"
   ]
  },
  {
   "cell_type": "markdown",
   "metadata": {
    "deletable": false,
    "editable": false,
    "id": "FPk_2pD4DQDE",
    "nbgrader": {
     "checksum": "c3f1148dbebdea15d9db9d99fb42c366",
     "grade": false,
     "grade_id": "cell-06abadcbea3ba9b8",
     "locked": true,
     "schema_version": 1,
     "solution": false
    }
   },
   "source": [
    "Create a little Python list so that we can go from numbers to descriptions easily. "
   ]
  },
  {
   "cell_type": "code",
   "execution_count": 8,
   "metadata": {
    "deletable": false,
    "id": "XYSgGg82Da9o",
    "nbgrader": {
     "checksum": "26b357bf6719812a6c2b0eb854725ce5",
     "grade": false,
     "grade_id": "cell-52c26d27045807d2",
     "locked": false,
     "schema_version": 1,
     "solution": true
    }
   },
   "outputs": [],
   "source": [
    "#Call the list \"labels\"\n",
    "# YOUR CODE HERE\n",
    "labels = [\"T-shirt/top\",\n",
    "          \"Trouser\",\n",
    "          \"Pullover\",\n",
    "          \"Dress\",\n",
    "          \"Coat\",\n",
    "          \"Sandal\",\n",
    "          \"Shirt\",\n",
    "          \"Sneaker\",\n",
    "          \"Bag\",\n",
    "          \"Ankle boot\"]\n",
    "\n",
    "\n"
   ]
  },
  {
   "cell_type": "code",
   "execution_count": null,
   "metadata": {
    "deletable": false,
    "editable": false,
    "nbgrader": {
     "checksum": "b3056c4ce2f6bb3a4aaa332f30169e31",
     "grade": true,
     "grade_id": "cell-51385f4917a30a5c",
     "locked": true,
     "points": 1,
     "schema_version": 1,
     "solution": false
    }
   },
   "outputs": [],
   "source": []
  },
  {
   "cell_type": "markdown",
   "metadata": {
    "deletable": false,
    "editable": false,
    "id": "VQmTVm7LE8su",
    "nbgrader": {
     "checksum": "41c7ae9034987f9d2d4b7d00948de61c",
     "grade": false,
     "grade_id": "cell-8f6b89f61a5330f5",
     "locked": true,
     "schema_version": 1,
     "solution": false
    }
   },
   "source": [
    "Given a number, the description is now a simple look-up. Let's see what the very first training example is about."
   ]
  },
  {
   "cell_type": "code",
   "execution_count": 9,
   "metadata": {
    "colab": {
     "base_uri": "https://localhost:8080/",
     "height": 36
    },
    "deletable": false,
    "editable": false,
    "id": "EgkeXIOkE8IL",
    "nbgrader": {
     "checksum": "e1fbc71ff183419d516d4ff752f36fb9",
     "grade": false,
     "grade_id": "cell-82c0c101651e2a65",
     "locked": true,
     "schema_version": 1,
     "solution": false
    },
    "outputId": "e689d720-8ccb-411d-b4ae-d2beae87c223"
   },
   "outputs": [
    {
     "data": {
      "text/plain": [
       "'Ankle boot'"
      ]
     },
     "execution_count": 9,
     "metadata": {},
     "output_type": "execute_result"
    }
   ],
   "source": [
    "labels[y_train[0]]"
   ]
  },
  {
   "cell_type": "markdown",
   "metadata": {
    "deletable": false,
    "editable": false,
    "id": "hfDO_EOAmKKo",
    "nbgrader": {
     "checksum": "62315ea1c74ede3cb10e934570191669",
     "grade": false,
     "grade_id": "cell-a1f65759881bac80",
     "locked": true,
     "schema_version": 1,
     "solution": false
    }
   },
   "source": [
    "The very first image is an \"Ankle boot\"! \n",
    "\n",
    "Let's take a look at the **raw data** for the image."
   ]
  },
  {
   "cell_type": "code",
   "execution_count": 10,
   "metadata": {
    "colab": {
     "base_uri": "https://localhost:8080/"
    },
    "deletable": false,
    "editable": false,
    "id": "XeijaCXbf5Yz",
    "nbgrader": {
     "checksum": "0173cf6b0d7ee36e4ebed6eb7d707827",
     "grade": false,
     "grade_id": "cell-7148d142d68d92d7",
     "locked": true,
     "schema_version": 1,
     "solution": false
    },
    "outputId": "e1b45f4c-8b4b-4c7d-ee74-4de376cd1cea"
   },
   "outputs": [
    {
     "data": {
      "text/plain": [
       "array([[  0,   0,   0,   0,   0,   0,   0,   0,   0,   0,   0,   0,   0,\n",
       "          0,   0,   0,   0,   0,   0,   0,   0,   0,   0,   0,   0,   0,\n",
       "          0,   0],\n",
       "       [  0,   0,   0,   0,   0,   0,   0,   0,   0,   0,   0,   0,   0,\n",
       "          0,   0,   0,   0,   0,   0,   0,   0,   0,   0,   0,   0,   0,\n",
       "          0,   0],\n",
       "       [  0,   0,   0,   0,   0,   0,   0,   0,   0,   0,   0,   0,   0,\n",
       "          0,   0,   0,   0,   0,   0,   0,   0,   0,   0,   0,   0,   0,\n",
       "          0,   0],\n",
       "       [  0,   0,   0,   0,   0,   0,   0,   0,   0,   0,   0,   0,   1,\n",
       "          0,   0,  13,  73,   0,   0,   1,   4,   0,   0,   0,   0,   1,\n",
       "          1,   0],\n",
       "       [  0,   0,   0,   0,   0,   0,   0,   0,   0,   0,   0,   0,   3,\n",
       "          0,  36, 136, 127,  62,  54,   0,   0,   0,   1,   3,   4,   0,\n",
       "          0,   3],\n",
       "       [  0,   0,   0,   0,   0,   0,   0,   0,   0,   0,   0,   0,   6,\n",
       "          0, 102, 204, 176, 134, 144, 123,  23,   0,   0,   0,   0,  12,\n",
       "         10,   0],\n",
       "       [  0,   0,   0,   0,   0,   0,   0,   0,   0,   0,   0,   0,   0,\n",
       "          0, 155, 236, 207, 178, 107, 156, 161, 109,  64,  23,  77, 130,\n",
       "         72,  15],\n",
       "       [  0,   0,   0,   0,   0,   0,   0,   0,   0,   0,   0,   1,   0,\n",
       "         69, 207, 223, 218, 216, 216, 163, 127, 121, 122, 146, 141,  88,\n",
       "        172,  66],\n",
       "       [  0,   0,   0,   0,   0,   0,   0,   0,   0,   1,   1,   1,   0,\n",
       "        200, 232, 232, 233, 229, 223, 223, 215, 213, 164, 127, 123, 196,\n",
       "        229,   0],\n",
       "       [  0,   0,   0,   0,   0,   0,   0,   0,   0,   0,   0,   0,   0,\n",
       "        183, 225, 216, 223, 228, 235, 227, 224, 222, 224, 221, 223, 245,\n",
       "        173,   0],\n",
       "       [  0,   0,   0,   0,   0,   0,   0,   0,   0,   0,   0,   0,   0,\n",
       "        193, 228, 218, 213, 198, 180, 212, 210, 211, 213, 223, 220, 243,\n",
       "        202,   0],\n",
       "       [  0,   0,   0,   0,   0,   0,   0,   0,   0,   1,   3,   0,  12,\n",
       "        219, 220, 212, 218, 192, 169, 227, 208, 218, 224, 212, 226, 197,\n",
       "        209,  52],\n",
       "       [  0,   0,   0,   0,   0,   0,   0,   0,   0,   0,   6,   0,  99,\n",
       "        244, 222, 220, 218, 203, 198, 221, 215, 213, 222, 220, 245, 119,\n",
       "        167,  56],\n",
       "       [  0,   0,   0,   0,   0,   0,   0,   0,   0,   4,   0,   0,  55,\n",
       "        236, 228, 230, 228, 240, 232, 213, 218, 223, 234, 217, 217, 209,\n",
       "         92,   0],\n",
       "       [  0,   0,   1,   4,   6,   7,   2,   0,   0,   0,   0,   0, 237,\n",
       "        226, 217, 223, 222, 219, 222, 221, 216, 223, 229, 215, 218, 255,\n",
       "         77,   0],\n",
       "       [  0,   3,   0,   0,   0,   0,   0,   0,   0,  62, 145, 204, 228,\n",
       "        207, 213, 221, 218, 208, 211, 218, 224, 223, 219, 215, 224, 244,\n",
       "        159,   0],\n",
       "       [  0,   0,   0,   0,  18,  44,  82, 107, 189, 228, 220, 222, 217,\n",
       "        226, 200, 205, 211, 230, 224, 234, 176, 188, 250, 248, 233, 238,\n",
       "        215,   0],\n",
       "       [  0,  57, 187, 208, 224, 221, 224, 208, 204, 214, 208, 209, 200,\n",
       "        159, 245, 193, 206, 223, 255, 255, 221, 234, 221, 211, 220, 232,\n",
       "        246,   0],\n",
       "       [  3, 202, 228, 224, 221, 211, 211, 214, 205, 205, 205, 220, 240,\n",
       "         80, 150, 255, 229, 221, 188, 154, 191, 210, 204, 209, 222, 228,\n",
       "        225,   0],\n",
       "       [ 98, 233, 198, 210, 222, 229, 229, 234, 249, 220, 194, 215, 217,\n",
       "        241,  65,  73, 106, 117, 168, 219, 221, 215, 217, 223, 223, 224,\n",
       "        229,  29],\n",
       "       [ 75, 204, 212, 204, 193, 205, 211, 225, 216, 185, 197, 206, 198,\n",
       "        213, 240, 195, 227, 245, 239, 223, 218, 212, 209, 222, 220, 221,\n",
       "        230,  67],\n",
       "       [ 48, 203, 183, 194, 213, 197, 185, 190, 194, 192, 202, 214, 219,\n",
       "        221, 220, 236, 225, 216, 199, 206, 186, 181, 177, 172, 181, 205,\n",
       "        206, 115],\n",
       "       [  0, 122, 219, 193, 179, 171, 183, 196, 204, 210, 213, 207, 211,\n",
       "        210, 200, 196, 194, 191, 195, 191, 198, 192, 176, 156, 167, 177,\n",
       "        210,  92],\n",
       "       [  0,   0,  74, 189, 212, 191, 175, 172, 175, 181, 185, 188, 189,\n",
       "        188, 193, 198, 204, 209, 210, 210, 211, 188, 188, 194, 192, 216,\n",
       "        170,   0],\n",
       "       [  2,   0,   0,   0,  66, 200, 222, 237, 239, 242, 246, 243, 244,\n",
       "        221, 220, 193, 191, 179, 182, 182, 181, 176, 166, 168,  99,  58,\n",
       "          0,   0],\n",
       "       [  0,   0,   0,   0,   0,   0,   0,  40,  61,  44,  72,  41,  35,\n",
       "          0,   0,   0,   0,   0,   0,   0,   0,   0,   0,   0,   0,   0,\n",
       "          0,   0],\n",
       "       [  0,   0,   0,   0,   0,   0,   0,   0,   0,   0,   0,   0,   0,\n",
       "          0,   0,   0,   0,   0,   0,   0,   0,   0,   0,   0,   0,   0,\n",
       "          0,   0],\n",
       "       [  0,   0,   0,   0,   0,   0,   0,   0,   0,   0,   0,   0,   0,\n",
       "          0,   0,   0,   0,   0,   0,   0,   0,   0,   0,   0,   0,   0,\n",
       "          0,   0]], dtype=uint8)"
      ]
     },
     "execution_count": 10,
     "metadata": {},
     "output_type": "execute_result"
    }
   ],
   "source": [
    "x_train[0]"
   ]
  },
  {
   "cell_type": "markdown",
   "metadata": {
    "deletable": false,
    "editable": false,
    "id": "tKNsAjcXnbZX",
    "nbgrader": {
     "checksum": "72a37e4b815bc5bbd57149085b8b3842",
     "grade": false,
     "grade_id": "cell-1d276dfc3bc569d9",
     "locked": true,
     "schema_version": 1,
     "solution": false
    }
   },
   "source": [
    "\n",
    "Let's look at the first 25 images using the handy `plt.imshow()` command\n",
    "\n"
   ]
  },
  {
   "cell_type": "code",
   "execution_count": 11,
   "metadata": {
    "colab": {
     "base_uri": "https://localhost:8080/",
     "height": 535
    },
    "deletable": false,
    "id": "aFe4wHGRFKle",
    "nbgrader": {
     "checksum": "63257f09de4f4a39006fe0292b421bae",
     "grade": false,
     "grade_id": "cell-9011707e2430fb9b",
     "locked": false,
     "schema_version": 1,
     "solution": true
    },
    "outputId": "608fe9e9-0f16-4477-b7ea-2e81c5663cc1"
   },
   "outputs": [
    {
     "data": {
      "image/png": "[encoded data removed]",
      "text/plain": [
       "<Figure size 2160x720 with 25 Axes>"
      ]
     },
     "metadata": {},
     "output_type": "display_data"
    }
   ],
   "source": [
    "# You'll create two variables namely \"fig\" and \"ax\" as shown in the screencast. \n",
    "# YOUR CODE HERE\n",
    "fig = plt.figure(figsize=(30, 10))\n",
    "for i in range(25):\n",
    "    ax = fig.add_subplot(5, 5, i+1, xticks=[], yticks=[])\n",
    "    ax.set_title(f\"{labels[y_train[i]]}\")\n",
    "    ax.imshow(x_train[i], cmap=\"gray\")\n"
   ]
  },
  {
   "cell_type": "markdown",
   "metadata": {
    "deletable": false,
    "editable": false,
    "id": "wX_NpSEmFbS0",
    "nbgrader": {
     "checksum": "fd7e19eaac5362bcc47af34da3bfec0e",
     "grade": false,
     "grade_id": "cell-419e9c189f1efbd3",
     "locked": true,
     "schema_version": 1,
     "solution": false
    }
   },
   "source": [
    "The images are a bit small but they will do for now."
   ]
  },
  {
   "cell_type": "markdown",
   "metadata": {
    "deletable": false,
    "editable": false,
    "id": "HhalcO03ZZg3",
    "nbgrader": {
     "checksum": "182957976851b41425abf9a98f4509dd",
     "grade": false,
     "grade_id": "cell-5de06af72c1af49c",
     "locked": true,
     "schema_version": 1,
     "solution": false
    }
   },
   "source": [
    "## A NN Model - First Attempt"
   ]
  },
  {
   "cell_type": "markdown",
   "metadata": {
    "deletable": false,
    "editable": false,
    "id": "5S-OwfZ9o2kD",
    "nbgrader": {
     "checksum": "a5da96c095567f38f217f776fb2897e3",
     "grade": false,
     "grade_id": "cell-095f5365e4aad25c",
     "locked": true,
     "schema_version": 1,
     "solution": false
    }
   },
   "source": [
    "Our first NN will be a simple one with a single hidden layer."
   ]
  },
  {
   "cell_type": "markdown",
   "metadata": {
    "deletable": false,
    "editable": false,
    "id": "HLWyd3hADf5F",
    "nbgrader": {
     "checksum": "8fd39981983d43a2eb7a7a47eb886428",
     "grade": false,
     "grade_id": "cell-910285c988334524",
     "locked": true,
     "schema_version": 1,
     "solution": false
    }
   },
   "source": [
    "### Data Prep"
   ]
  },
  {
   "cell_type": "markdown",
   "metadata": {
    "deletable": false,
    "editable": false,
    "id": "yzsASyi9f9RA",
    "nbgrader": {
     "checksum": "65aa965a816ce12818fb369150b7f651",
     "grade": false,
     "grade_id": "cell-8a2223a05cbe1107",
     "locked": true,
     "schema_version": 1,
     "solution": false
    }
   },
   "source": [
    "**Tip**: NNs learn best when each independent variable is in a small range. So, standardize them by either \n",
    "- subtracting the mean and dividing by the standard deviation or \n",
    "- if they are in a guaranteed range, just divide by the max value.\n",
    "\n",
    "The inputs here range from 0 to 255. Let's normalize to the 0-1 range by dividing everything by 255."
   ]
  },
  {
   "cell_type": "code",
   "execution_count": 12,
   "metadata": {
    "deletable": false,
    "id": "XNh5NIckZZgu",
    "nbgrader": {
     "checksum": "12943767bbce5ca006a2808e352c70dd",
     "grade": false,
     "grade_id": "cell-018d6d60ec1ba573",
     "locked": false,
     "schema_version": 1,
     "solution": true
    }
   },
   "outputs": [],
   "source": [
    "#Standardize x_train and x_test\n",
    "# YOUR CODE HERE\n",
    "\n",
    "x_train = x_train/ 255.0\n",
    "x_test = x_test/ 255.0\n"
   ]
  },
  {
   "cell_type": "code",
   "execution_count": null,
   "metadata": {
    "deletable": false,
    "editable": false,
    "nbgrader": {
     "checksum": "a29dcc74eba318b4f634af586b8b3b12",
     "grade": true,
     "grade_id": "cell-55018ef9422cd4b6",
     "locked": true,
     "points": 1,
     "schema_version": 1,
     "solution": false
    }
   },
   "outputs": [],
   "source": []
  },
  {
   "cell_type": "markdown",
   "metadata": {
    "deletable": false,
    "editable": false,
    "id": "yZNxCGvMr86Y",
    "nbgrader": {
     "checksum": "da535e8852215aabb2380217ccaa8869",
     "grade": false,
     "grade_id": "cell-59adad73c2257e2c",
     "locked": true,
     "schema_version": 1,
     "solution": false
    }
   },
   "source": [
    "### Define Model in Keras\n",
    "\n",
    "As we saw in the previous module, creating an NN  is usually just a few lines of Keras code. \n",
    "\n",
    "* The input will be 28 x 28 matrices of numbers. These will have to be *flattened* into a long vector and then fed to the hidden layer.\n",
    "* We will start with a single hidden layer of 256 ReLU neurons.\n",
    "* Since this is a *multi-class classification problem* (e.g., we need to predict one of 10 clothing categories), the output layer has to produce a 10-element vector of probabilities that sum up to 1.0  => we will use the *softmax* layer that we learned about in the previous lecture.\n"
   ]
  },
  {
   "cell_type": "markdown",
   "metadata": {
    "deletable": false,
    "editable": false,
    "id": "iShpbUjtQSfm",
    "nbgrader": {
     "checksum": "61ba5c2a244fbef8d9761095c2922dee",
     "grade": false,
     "grade_id": "cell-4e8716f751787322",
     "locked": true,
     "schema_version": 1,
     "solution": false
    }
   },
   "source": [
    "![image.png](data:image/png;base64,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)"
   ]
  },
  {
   "cell_type": "code",
   "execution_count": 13,
   "metadata": {
    "deletable": false,
    "id": "4dBGvQAjr-YY",
    "nbgrader": {
     "checksum": "2a0ae862cf84363a2f323b38c2584fc4",
     "grade": false,
     "grade_id": "cell-834c655f87ac61a8",
     "locked": false,
     "schema_version": 1,
     "solution": true
    }
   },
   "outputs": [],
   "source": [
    "# define the input layer\n",
    "# YOUR CODE HERE\n",
    "input = keras.Input(shape=(28,28))\n",
    "\n",
    "# convert the 28 x 28 matrix of numbers into a long vector\n",
    "# YOUR CODE HERE\n",
    "h = keras.layers.Flatten()(input)\n",
    "\n",
    "# feed the long vector to the hidden layer\n",
    "# YOUR CODE HERE\n",
    "h = keras.layers.Dense(256, activation=\"relu\", name=\"Hidden\")(h)\n",
    "\n",
    "# feed the output of the hidden layer to the output layer\n",
    "# YOUR CODE HERE\n",
    "output = keras.layers.Dense(10, activation=\"softmax\", name=\"Output\")(h)\n",
    "\n",
    "# tell Keras that this (input,output) pair is your model\n",
    "# YOUR CODE HERE\n",
    "model = keras.Model(input, output)"
   ]
  },
  {
   "cell_type": "code",
   "execution_count": null,
   "metadata": {
    "deletable": false,
    "editable": false,
    "nbgrader": {
     "checksum": "48dd23055614ea355b0b01cb628249e9",
     "grade": true,
     "grade_id": "cell-5ee7c7d6737a5bb2",
     "locked": true,
     "points": 2,
     "schema_version": 1,
     "solution": false
    }
   },
   "outputs": [],
   "source": []
  },
  {
   "cell_type": "code",
   "execution_count": 14,
   "metadata": {
    "colab": {
     "base_uri": "https://localhost:8080/"
    },
    "deletable": false,
    "editable": false,
    "id": "qqO7Eoa4J2l2",
    "nbgrader": {
     "checksum": "397092cac8a91da237e8c5e5e82947c1",
     "grade": false,
     "grade_id": "cell-b9ba633766989a34",
     "locked": true,
     "schema_version": 1,
     "solution": false
    },
    "outputId": "8708e3c6-6a34-4a5b-976d-6f2c1b5d5967"
   },
   "outputs": [
    {
     "name": "stdout",
     "output_type": "stream",
     "text": [
      "Model: \"model\"\n",
      "_________________________________________________________________\n",
      "Layer (type)                 Output Shape              Param #   \n",
      "=================================================================\n",
      "input_1 (InputLayer)         [(None, 28, 28)]          0         \n",
      "_________________________________________________________________\n",
      "flatten (Flatten)            (None, 784)               0         \n",
      "_________________________________________________________________\n",
      "Hidden (Dense)               (None, 256)               200960    \n",
      "_________________________________________________________________\n",
      "Output (Dense)               (None, 10)                2570      \n",
      "=================================================================\n",
      "Total params: 203,530\n",
      "Trainable params: 203,530\n",
      "Non-trainable params: 0\n",
      "_________________________________________________________________\n"
     ]
    }
   ],
   "source": [
    "model.summary()"
   ]
  },
  {
   "cell_type": "markdown",
   "metadata": {
    "deletable": false,
    "editable": false,
    "id": "KZ3gSO3zbkg7",
    "nbgrader": {
     "checksum": "bb3d3ae915db716df110096f9dd06bac",
     "grade": false,
     "grade_id": "cell-f73c976e97b2efd3",
     "locked": true,
     "schema_version": 1,
     "solution": false
    }
   },
   "source": [
    "Let's hand-calculate the number of parameters to verify."
   ]
  },
  {
   "cell_type": "code",
   "execution_count": 15,
   "metadata": {
    "colab": {
     "base_uri": "https://localhost:8080/"
    },
    "deletable": false,
    "id": "87XErgE0bjaz",
    "nbgrader": {
     "checksum": "c52e4da93845173f0c1e6579c90532b6",
     "grade": false,
     "grade_id": "cell-c7d0f72bcd630a81",
     "locked": false,
     "schema_version": 1,
     "solution": true
    },
    "outputId": "9498dcd8-2cae-439f-d4a1-c30b1382d69b"
   },
   "outputs": [
    {
     "name": "stdout",
     "output_type": "stream",
     "text": [
      "203530\n"
     ]
    }
   ],
   "source": [
    "# calculate the number of parameters and set the output to \"parameters\"\n",
    "# YOUR CODE HERE\n",
    "parameters =(784 * 256 + 256) + (256 * 10 + 10)\n",
    "print(parameters)"
   ]
  },
  {
   "cell_type": "code",
   "execution_count": null,
   "metadata": {
    "deletable": false,
    "editable": false,
    "nbgrader": {
     "checksum": "366a232e26341f5101d606259a5d9ba2",
     "grade": true,
     "grade_id": "cell-eeee6da3fcf78412",
     "locked": true,
     "points": 1,
     "schema_version": 1,
     "solution": false
    }
   },
   "outputs": [],
   "source": []
  },
  {
   "cell_type": "markdown",
   "metadata": {
    "deletable": false,
    "editable": false,
    "id": "9CqUanVPJ8_Q",
    "nbgrader": {
     "checksum": "069b2cd7864973963916284f51ea86d5",
     "grade": false,
     "grade_id": "cell-39c5b218e1aa0142",
     "locked": true,
     "schema_version": 1,
     "solution": false
    }
   },
   "source": [
    "We can \"visualize\" the network graphically as well."
   ]
  },
  {
   "attachments": {
    "image.png": {
     "image/png": "[encoded data removed]"
    }
   },
   "cell_type": "markdown",
   "metadata": {
    "deletable": false,
    "editable": false,
    "nbgrader": {
     "checksum": "13ff05f9f0468935676dc3c6cacbf00b",
     "grade": false,
     "grade_id": "cell-8329b9677f3872b7",
     "locked": true,
     "schema_version": 1,
     "solution": false
    }
   },
   "source": [
    "![image.png](attachment:image.png)"
   ]
  },
  {
   "cell_type": "markdown",
   "metadata": {
    "deletable": false,
    "editable": false,
    "id": "7HRgxUZOsj6X",
    "nbgrader": {
     "checksum": "91f5d505e905addb82d64fb7b6170069",
     "grade": false,
     "grade_id": "cell-58017201b2b9d349",
     "locked": true,
     "schema_version": 1,
     "solution": false
    }
   },
   "source": [
    "### Set Optimization Parameters"
   ]
  },
  {
   "cell_type": "markdown",
   "metadata": {
    "deletable": false,
    "editable": false,
    "id": "PyN8HgiiEGr-",
    "nbgrader": {
     "checksum": "849cb698b5ffeadec3523d7b22df1d86",
     "grade": false,
     "grade_id": "cell-06641bdd8cf18e33",
     "locked": true,
     "schema_version": 1,
     "solution": false
    }
   },
   "source": [
    "Now that the model is defined, we need to tell Keras three things:\n",
    "\n",
    "*   What **loss function** to use \n",
    "*   Which **optimizer** to use - we will again use **Adam** which is an excellent set-and-forget choice \n",
    "*   What **metrics** you want Keras to report out - in classification problems like this one, Accuracy is usually the metric you want to see.\n"
   ]
  },
  {
   "cell_type": "markdown",
   "metadata": {
    "deletable": false,
    "editable": false,
    "id": "2QNs7TaGREZ6",
    "nbgrader": {
     "checksum": "8e4c9fd571ce67fe9896812cb0391398",
     "grade": false,
     "grade_id": "cell-fcb3293dab2a92e9",
     "locked": true,
     "schema_version": 1,
     "solution": false
    }
   },
   "source": [
    "Since our output variable is categorical with 10 levels, we will select the `sparse_categorical_crossentropy` loss function."
   ]
  },
  {
   "cell_type": "code",
   "execution_count": 16,
   "metadata": {
    "deletable": false,
    "id": "laRvFhNmsjmL",
    "nbgrader": {
     "checksum": "f47a68e63ce62264b7724b371be1195d",
     "grade": false,
     "grade_id": "cell-350f319c956c5925",
     "locked": false,
     "schema_version": 1,
     "solution": true
    }
   },
   "outputs": [],
   "source": [
    "# Compile your model\n",
    "# YOUR CODE HERE\n",
    "model.compile(loss=\"sparse_categorical_crossentropy\",\n",
    "              optimizer=\"adam\",\n",
    "              metrics=[\"accuracy\"])\n"
   ]
  },
  {
   "cell_type": "markdown",
   "metadata": {
    "deletable": false,
    "editable": false,
    "id": "DtOvh3YVZZg_",
    "nbgrader": {
     "checksum": "792047105db85e44a616a4c43c37147a",
     "grade": false,
     "grade_id": "cell-63dd37bdc0143e36",
     "locked": true,
     "schema_version": 1,
     "solution": false
    }
   },
   "source": [
    "### Train the Model!\n",
    "\n",
    "* The *batch size*: 32 or 64 are commonly used\n",
    "* The number of *epochs* i.e., how many passes through the training data: start with 10-20. \n",
    "\n",
    "\n",
    "---\n",
    "\n",
    "OK, let's train the model using the `model.fit` function!\n"
   ]
  },
  {
   "cell_type": "code",
   "execution_count": 17,
   "metadata": {
    "colab": {
     "base_uri": "https://localhost:8080/"
    },
    "deletable": false,
    "id": "mt5KP80qDzV_",
    "nbgrader": {
     "checksum": "3d6652e6aa8a4f81cca8d437a7321752",
     "grade": false,
     "grade_id": "cell-c499a2c2f3113e02",
     "locked": false,
     "schema_version": 1,
     "solution": true
    },
    "outputId": "4fd242ad-ba34-4b75-c0bd-68cf751dca41"
   },
   "outputs": [
    {
     "name": "stdout",
     "output_type": "stream",
     "text": [
      "Epoch 1/10\n",
      "1875/1875 [==============================] - 8s 4ms/step - loss: 0.4883 - accuracy: 0.8271\n",
      "Epoch 2/10\n",
      "1875/1875 [==============================] - 6s 3ms/step - loss: 0.3638 - accuracy: 0.8678\n",
      "Epoch 3/10\n",
      "1875/1875 [==============================] - 5s 3ms/step - loss: 0.3266 - accuracy: 0.8801\n",
      "Epoch 4/10\n",
      "1875/1875 [==============================] - 5s 3ms/step - loss: 0.3023 - accuracy: 0.8889\n",
      "Epoch 5/10\n",
      "1875/1875 [==============================] - 7s 4ms/step - loss: 0.2835 - accuracy: 0.8942\n",
      "Epoch 6/10\n",
      "1875/1875 [==============================] - 5s 3ms/step - loss: 0.2681 - accuracy: 0.8990\n",
      "Epoch 7/10\n",
      "1875/1875 [==============================] - 5s 3ms/step - loss: 0.2567 - accuracy: 0.9044\n",
      "Epoch 8/10\n",
      "1875/1875 [==============================] - 6s 3ms/step - loss: 0.2450 - accuracy: 0.9076\n",
      "Epoch 9/10\n",
      "1875/1875 [==============================] - 5s 3ms/step - loss: 0.2349 - accuracy: 0.9124\n",
      "Epoch 10/10\n",
      "1875/1875 [==============================] - 5s 3ms/step - loss: 0.2285 - accuracy: 0.9140\n"
     ]
    },
    {
     "data": {
      "text/plain": [
       "<keras.callbacks.History at 0x7f8b9702feb8>"
      ]
     },
     "execution_count": 17,
     "metadata": {},
     "output_type": "execute_result"
    }
   ],
   "source": [
    "# fit your model first try with a batch size of 32 and 10 epochs\n",
    "# YOUR CODE HERE\n",
    "batch_size = 32\n",
    "epochs = 10\n",
    "model.fit(x_train, y_train, batch_size=batch_size, epochs=epochs)"
   ]
  },
  {
   "cell_type": "markdown",
   "metadata": {
    "deletable": false,
    "editable": false,
    "id": "I-U-qrFEEymo",
    "nbgrader": {
     "checksum": "15e6326868e3b9d2160ca42fc0c43c51",
     "grade": false,
     "grade_id": "cell-1d54d15ea9a4bfab",
     "locked": true,
     "schema_version": 1,
     "solution": false
    }
   },
   "source": [
    "### Evaluate the Model\n",
    "\n",
    "You can see from the above that our model achieves over 91% accuracy on the train set but, as we know, doing well on the training set isn't all that impressive due to the possibility of overfitting. So the real question is **how well does it do on the test set?**\n",
    "\n",
    "`model.evaluate` is a very handy function to calculate the performance of your model on any dataset."
   ]
  },
  {
   "cell_type": "code",
   "execution_count": 18,
   "metadata": {
    "colab": {
     "base_uri": "https://localhost:8080/"
    },
    "deletable": false,
    "id": "z7iuFwBDD3vn",
    "nbgrader": {
     "checksum": "ab45234a3cccfe1309341f0d6be15bae",
     "grade": false,
     "grade_id": "cell-45fd9dadeefd4cbd",
     "locked": false,
     "schema_version": 1,
     "solution": true
    },
    "outputId": "525ce338-2839-4f17-a103-57978c3d4590"
   },
   "outputs": [
    {
     "name": "stdout",
     "output_type": "stream",
     "text": [
      "313/313 [==============================] - 1s 2ms/step - loss: 0.3444 - accuracy: 0.8805\n"
     ]
    },
    {
     "data": {
      "text/plain": [
       "[0.34438544511795044, 0.8805000185966492]"
      ]
     },
     "execution_count": 18,
     "metadata": {},
     "output_type": "execute_result"
    }
   ],
   "source": [
    "# Evaluate model on test data set\n",
    "# YOUR CODE HERE\n",
    "\n",
    "model.evaluate(x_test, y_test)\n",
    "\n",
    "\n"
   ]
  },
  {
   "cell_type": "code",
   "execution_count": null,
   "metadata": {
    "deletable": false,
    "editable": false,
    "nbgrader": {
     "checksum": "c5fa9791d58527b77cbb73bb1934ac07",
     "grade": true,
     "grade_id": "cell-33270e8efc1701c4",
     "locked": true,
     "points": 1,
     "schema_version": 1,
     "solution": false
    }
   },
   "outputs": [],
   "source": []
  },
  {
   "cell_type": "markdown",
   "metadata": {
    "deletable": false,
    "editable": false,
    "id": "wwsA4GDkZK7w",
    "nbgrader": {
     "checksum": "3610448f67eec0d4cd7e3e42f25de642",
     "grade": false,
     "grade_id": "cell-dcfd03d9fd6e5c84",
     "locked": true,
     "schema_version": 1,
     "solution": false
    }
   },
   "source": [
    "\n",
    "\n",
    "---\n",
    "\n",
    "\n",
    "Did the NNs we create take advantage of the fact that the input data is **images**?\n",
    "\n",
    "\n",
    "<br>\n",
    "\n"
   ]
  },
  {
   "cell_type": "markdown",
   "metadata": {
    "deletable": false,
    "editable": false,
    "id": "pmoJ5KtV6b3B",
    "nbgrader": {
     "checksum": "8ee582def586f5f358cd4f497eb3a8a6",
     "grade": false,
     "grade_id": "cell-99148c4e84e7b81a",
     "locked": true,
     "schema_version": 1,
     "solution": false
    }
   },
   "source": [
    "## A Convolutional Neural Network\n",
    "\n",
    "\n"
   ]
  },
  {
   "cell_type": "markdown",
   "metadata": {
    "deletable": false,
    "editable": false,
    "id": "MoexYg-B6jKc",
    "nbgrader": {
     "checksum": "36ec540dc25a6348cf108e0725283cd4",
     "grade": false,
     "grade_id": "cell-66d3a704bfd73c86",
     "locked": true,
     "schema_version": 1,
     "solution": false
    }
   },
   "source": [
    "### Convolutional Layers\n",
    "\n"
   ]
  },
  {
   "cell_type": "markdown",
   "metadata": {
    "deletable": false,
    "editable": false,
    "id": "jWEljPUv7feK",
    "nbgrader": {
     "checksum": "f31552264b0283f0229c5a888e21a9db",
     "grade": false,
     "grade_id": "cell-009aeb4cb04b1a27",
     "locked": true,
     "schema_version": 1,
     "solution": false
    }
   },
   "source": [
    "Convolutional (typically abbreviated to \"conv\") layers were the key breakthrough that led to all the exciting advances in AI for Computer Vision problems like Image Classification, Image Recognition etc. They were designed to specifically work with images.\n",
    "\n",
    "Conv layers are the reason why your iPhone can recognize your face! "
   ]
  },
  {
   "cell_type": "markdown",
   "metadata": {
    "deletable": false,
    "editable": false,
    "id": "qi9YzGAWFoKo",
    "nbgrader": {
     "checksum": "a0fab69049184fc65875bc06b530433b",
     "grade": false,
     "grade_id": "cell-d5313f1062e0918c",
     "locked": true,
     "schema_version": 1,
     "solution": false
    }
   },
   "source": [
    "We will follow the same sequence of steps as we did above:\n",
    "\n",
    "\n",
    "*   Data Prep\n",
    "*   Define Model\n",
    "*   Set Optimization Parameters\n",
    "*   Train Model\n",
    "*   Evaluate Model\n"
   ]
  },
  {
   "cell_type": "markdown",
   "metadata": {
    "deletable": false,
    "editable": false,
    "id": "L-FakH_-FrVi",
    "nbgrader": {
     "checksum": "8c9c17cad5a4a743fc214c70647b689e",
     "grade": false,
     "grade_id": "cell-66b24598b6a7d03f",
     "locked": true,
     "schema_version": 1,
     "solution": false
    }
   },
   "source": [
    "### Data Prep\n",
    "\n",
    "The data has already been normalized so that the numbers are between 0 and 1. We don't need to do it again."
   ]
  },
  {
   "cell_type": "code",
   "execution_count": 19,
   "metadata": {
    "colab": {
     "base_uri": "https://localhost:8080/"
    },
    "deletable": false,
    "editable": false,
    "id": "sJbrfpaa6pM_",
    "nbgrader": {
     "checksum": "137f7f76537e308092627fa896a675db",
     "grade": false,
     "grade_id": "cell-054d0b6f14313882",
     "locked": true,
     "schema_version": 1,
     "solution": false
    },
    "outputId": "ac1b7af8-c0e7-4601-d6e7-c9c9b72ad5d9"
   },
   "outputs": [
    {
     "data": {
      "text/plain": [
       "(60000, 28, 28)"
      ]
     },
     "execution_count": 19,
     "metadata": {},
     "output_type": "execute_result"
    }
   ],
   "source": [
    "x_train.shape"
   ]
  },
  {
   "cell_type": "markdown",
   "metadata": {
    "deletable": false,
    "editable": false,
    "id": "cBWBhkUZ9Q6A",
    "nbgrader": {
     "checksum": "bd552defc531565ef763b4692b50b2b9",
     "grade": false,
     "grade_id": "cell-322a2a84bb51d16d",
     "locked": true,
     "schema_version": 1,
     "solution": false
    }
   },
   "source": [
    "For reasons that will become clear when you work with color images, we also need to add another dimension to each example so that it goes from 28x28 to 28x28x1"
   ]
  },
  {
   "cell_type": "code",
   "execution_count": 20,
   "metadata": {
    "deletable": false,
    "id": "67K5GsHA6oJI",
    "nbgrader": {
     "checksum": "57098602ab784e57c26ac344af1875ca",
     "grade": false,
     "grade_id": "cell-7ffd1160020180e6",
     "locked": false,
     "schema_version": 1,
     "solution": true
    }
   },
   "outputs": [],
   "source": [
    "# add another dimension to x_train and x_test\n",
    "# YOUR CODE HERE\n",
    "x_train = np.expand_dims(x_train, -1)\n",
    "x_test = np.expand_dims(x_test, -1)\n"
   ]
  },
  {
   "cell_type": "code",
   "execution_count": null,
   "metadata": {
    "deletable": false,
    "editable": false,
    "nbgrader": {
     "checksum": "308a5c7bd3813a0d42465470ce8da609",
     "grade": true,
     "grade_id": "cell-55fb807ad1ad8425",
     "locked": true,
     "points": 1,
     "schema_version": 1,
     "solution": false
    }
   },
   "outputs": [],
   "source": []
  },
  {
   "cell_type": "code",
   "execution_count": 21,
   "metadata": {
    "colab": {
     "base_uri": "https://localhost:8080/"
    },
    "deletable": false,
    "editable": false,
    "id": "NiJPUavn9i1u",
    "nbgrader": {
     "checksum": "028131f03412a2c7babda2ae739497a3",
     "grade": false,
     "grade_id": "cell-d4cf8999caa6aa02",
     "locked": true,
     "schema_version": 1,
     "solution": false
    },
    "outputId": "97f55813-18c2-4478-8963-cb18f2f8348d"
   },
   "outputs": [
    {
     "data": {
      "text/plain": [
       "(60000, 28, 28, 1)"
      ]
     },
     "execution_count": 21,
     "metadata": {},
     "output_type": "execute_result"
    }
   ],
   "source": [
    "x_train.shape"
   ]
  },
  {
   "cell_type": "markdown",
   "metadata": {
    "deletable": false,
    "editable": false,
    "id": "_jD54KW4KEO9",
    "nbgrader": {
     "checksum": "f32d8922f7533154d458d2937f25318b",
     "grade": false,
     "grade_id": "cell-21533455785de7b7",
     "locked": true,
     "schema_version": 1,
     "solution": false
    }
   },
   "source": [
    "### Define Model"
   ]
  },
  {
   "cell_type": "markdown",
   "metadata": {
    "deletable": false,
    "editable": false,
    "id": "890pzHY09iAH",
    "nbgrader": {
     "checksum": "2a53909db2ae2c2d6f6537ff9916ed12",
     "grade": false,
     "grade_id": "cell-13e66a92f2c7064d",
     "locked": true,
     "schema_version": 1,
     "solution": false
    }
   },
   "source": [
    "OK, we are ready to create our very first **Convolutional Neural Network (CNN)!**\n",
    "\n"
   ]
  },
  {
   "cell_type": "code",
   "execution_count": 22,
   "metadata": {
    "deletable": false,
    "id": "TwJDQOPf6siE",
    "nbgrader": {
     "checksum": "14d455fd07e570ea6a0a57d190a52460",
     "grade": false,
     "grade_id": "cell-09d1bbc26bce4424",
     "locked": false,
     "schema_version": 1,
     "solution": true
    }
   },
   "outputs": [],
   "source": [
    "input = keras.Input(shape=x_train.shape[1:])\n",
    "\n",
    "# first convolutional block\n",
    "# YOUR CODE HERE\n",
    "x = keras.layers.Conv2D(48, kernel_size=(2, 2), activation=\"relu\", name=\"Conv_1\")(input) # convolutional layer\n",
    "x = keras.layers.MaxPool2D()(x) # pooling layer\n",
    "\n",
    "\n",
    "# second convolutional block\n",
    "# YOUR CODE HERE\n",
    "x = keras.layers.Conv2D(32, kernel_size=(2, 2), activation=\"relu\", name=\"Conv_2\")(x) # convolutional layer\n",
    "x = keras.layers.MaxPool2D()(x) # pooling layer\n",
    "\n",
    "#Flatten the layers\n",
    "# YOUR CODE HERE\n",
    "x = keras.layers.Flatten()(x)\n",
    "x = keras.layers.Dense(256, activation=\"relu\")(x)\n",
    "\n",
    "\n",
    "# create an output called \"output\"\n",
    "# YOUR CODE HERE\n",
    "output = keras.layers.Dense(10, activation=\"softmax\")(x)\n",
    "\n",
    "model = keras.Model(input, output)"
   ]
  },
  {
   "cell_type": "code",
   "execution_count": null,
   "metadata": {
    "deletable": false,
    "editable": false,
    "nbgrader": {
     "checksum": "21f0a63faad62db5628e09b0afc244b6",
     "grade": true,
     "grade_id": "cell-1ece07d80ca63aff",
     "locked": true,
     "points": 2,
     "schema_version": 1,
     "solution": false
    }
   },
   "outputs": [],
   "source": []
  },
  {
   "cell_type": "code",
   "execution_count": 23,
   "metadata": {
    "colab": {
     "base_uri": "https://localhost:8080/"
    },
    "deletable": false,
    "editable": false,
    "id": "fbSVgbawkM9z",
    "nbgrader": {
     "checksum": "baf210552669a64888e333ce9c9d9507",
     "grade": false,
     "grade_id": "cell-6581658e9d11cdf7",
     "locked": true,
     "schema_version": 1,
     "solution": false
    },
    "outputId": "658095dc-1bbe-4ea9-a0aa-d7e581e70f91"
   },
   "outputs": [
    {
     "name": "stdout",
     "output_type": "stream",
     "text": [
      "Model: \"model_1\"\n",
      "_________________________________________________________________\n",
      "Layer (type)                 Output Shape              Param #   \n",
      "=================================================================\n",
      "input_2 (InputLayer)         [(None, 28, 28, 1)]       0         \n",
      "_________________________________________________________________\n",
      "Conv_1 (Conv2D)              (None, 27, 27, 48)        240       \n",
      "_________________________________________________________________\n",
      "max_pooling2d (MaxPooling2D) (None, 13, 13, 48)        0         \n",
      "_________________________________________________________________\n",
      "Conv_2 (Conv2D)              (None, 12, 12, 32)        6176      \n",
      "_________________________________________________________________\n",
      "max_pooling2d_1 (MaxPooling2 (None, 6, 6, 32)          0         \n",
      "_________________________________________________________________\n",
      "flatten_1 (Flatten)          (None, 1152)              0         \n",
      "_________________________________________________________________\n",
      "dense (Dense)                (None, 256)               295168    \n",
      "_________________________________________________________________\n",
      "dense_1 (Dense)              (None, 10)                2570      \n",
      "=================================================================\n",
      "Total params: 304,154\n",
      "Trainable params: 304,154\n",
      "Non-trainable params: 0\n",
      "_________________________________________________________________\n"
     ]
    }
   ],
   "source": [
    "model.summary()"
   ]
  },
  {
   "cell_type": "markdown",
   "metadata": {
    "deletable": false,
    "editable": false,
    "nbgrader": {
     "checksum": "d331aafc0b8c4626eddff91a69f8eec3",
     "grade": false,
     "grade_id": "cell-e09f768c8e2be63e",
     "locked": true,
     "schema_version": 1,
     "solution": false
    }
   },
   "source": [
    "##### Your model should be visualized by the image below"
   ]
  },
  {
   "attachments": {
    "image.png": {
     "image/png": "[encoded data removed]"
    }
   },
   "cell_type": "markdown",
   "metadata": {
    "deletable": false,
    "editable": false,
    "nbgrader": {
     "checksum": "308c9fcaa0b27b56c00f11c1ee52e0e7",
     "grade": false,
     "grade_id": "cell-ca9fe99a2a8887c5",
     "locked": true,
     "schema_version": 1,
     "solution": false
    }
   },
   "source": [
    "![image.png](attachment:image.png)"
   ]
  },
  {
   "cell_type": "markdown",
   "metadata": {
    "deletable": false,
    "editable": false,
    "id": "wMc1QqLsKPst",
    "nbgrader": {
     "checksum": "379c8e73a7a437d2f734cb0437d0ee02",
     "grade": false,
     "grade_id": "cell-06c9b15d9bffaf28",
     "locked": true,
     "schema_version": 1,
     "solution": false
    }
   },
   "source": [
    "### Set Optimization Parameters"
   ]
  },
  {
   "cell_type": "markdown",
   "metadata": {
    "deletable": false,
    "editable": false,
    "id": "EonOOcJViIv9",
    "nbgrader": {
     "checksum": "388a03abb0fc90ccdf0db1399b701210",
     "grade": false,
     "grade_id": "cell-df3eb54f726a164b",
     "locked": true,
     "schema_version": 1,
     "solution": false
    }
   },
   "source": [
    "Same as before ...."
   ]
  },
  {
   "cell_type": "code",
   "execution_count": 24,
   "metadata": {
    "deletable": false,
    "id": "CQUlOa8cZZg9",
    "nbgrader": {
     "checksum": "806eecbc2300cdd8d63f06b5e913d6d9",
     "grade": false,
     "grade_id": "cell-9f4880aff82c1110",
     "locked": false,
     "schema_version": 1,
     "solution": true
    }
   },
   "outputs": [],
   "source": [
    "# Compile model using sparse_categorical_crossentropy\n",
    "# and adam, and accuracy as a metric\n",
    "# YOUR CODE HERE\n",
    "model.compile(loss='sparse_categorical_crossentropy',\n",
    "             optimizer='adam',\n",
    "             metrics=['accuracy'])\n"
   ]
  },
  {
   "cell_type": "markdown",
   "metadata": {
    "deletable": false,
    "editable": false,
    "id": "eFL8KbhmKWEW",
    "nbgrader": {
     "checksum": "f8410db828c2c29488400962d50d2874",
     "grade": false,
     "grade_id": "cell-ac868773d98b5c07",
     "locked": true,
     "schema_version": 1,
     "solution": false
    }
   },
   "source": [
    "### Train the Model"
   ]
  },
  {
   "cell_type": "markdown",
   "metadata": {
    "deletable": false,
    "editable": false,
    "nbgrader": {
     "checksum": "a30c1f7d5c0eaa17fddbd7be88a364e3",
     "grade": false,
     "grade_id": "cell-4e926d51172ac7f4",
     "locked": true,
     "schema_version": 1,
     "solution": false
    }
   },
   "source": [
    "#####DISCLAIMER: This will take some time to complete"
   ]
  },
  {
   "cell_type": "code",
   "execution_count": 25,
   "metadata": {
    "colab": {
     "base_uri": "https://localhost:8080/"
    },
    "deletable": false,
    "id": "ZTmapAttZZhA",
    "nbgrader": {
     "checksum": "1d08fa2d44590e2f212a817182cbaa06",
     "grade": false,
     "grade_id": "cell-8e3f1f6afb87507b",
     "locked": false,
     "schema_version": 1,
     "solution": true
    },
    "outputId": "64997655-df40-4549-c0b1-06fa624e2581"
   },
   "outputs": [
    {
     "name": "stdout",
     "output_type": "stream",
     "text": [
      "Epoch 1/10\n",
      "938/938 [==============================] - 33s 35ms/step - loss: 0.4770 - accuracy: 0.8270\n",
      "Epoch 2/10\n",
      "938/938 [==============================] - 32s 34ms/step - loss: 0.3156 - accuracy: 0.8850\n",
      "Epoch 3/10\n",
      "938/938 [==============================] - 38s 41ms/step - loss: 0.2712 - accuracy: 0.8998\n",
      "Epoch 4/10\n",
      "938/938 [==============================] - 32s 34ms/step - loss: 0.2418 - accuracy: 0.9089\n",
      "Epoch 5/10\n",
      "938/938 [==============================] - 30s 32ms/step - loss: 0.2190 - accuracy: 0.9194\n",
      "Epoch 6/10\n",
      "938/938 [==============================] - 25s 27ms/step - loss: 0.1961 - accuracy: 0.9264\n",
      "Epoch 7/10\n",
      "938/938 [==============================] - 23s 25ms/step - loss: 0.1788 - accuracy: 0.9334\n",
      "Epoch 8/10\n",
      "938/938 [==============================] - 31s 33ms/step - loss: 0.1606 - accuracy: 0.9401\n",
      "Epoch 9/10\n",
      "938/938 [==============================] - 34s 36ms/step - loss: 0.1461 - accuracy: 0.9450\n",
      "Epoch 10/10\n",
      "938/938 [==============================] - 23s 24ms/step - loss: 0.1331 - accuracy: 0.9502\n"
     ]
    },
    {
     "data": {
      "text/plain": [
       "<keras.callbacks.History at 0x7f8b94047b00>"
      ]
     },
     "execution_count": 25,
     "metadata": {},
     "output_type": "execute_result"
    }
   ],
   "source": [
    "# Train the model with either 32 or 64 as the batch size and using 10 epochs\n",
    "# YOUR CODE HERE\n",
    "model.fit(x_train, y_train, batch_size=64, epochs=10)"
   ]
  },
  {
   "cell_type": "markdown",
   "metadata": {
    "deletable": false,
    "editable": false,
    "id": "EJc-5jRfKh_b",
    "nbgrader": {
     "checksum": "fa59421a37e4e61da529b374a80fcae4",
     "grade": false,
     "grade_id": "cell-bbca0a5720f29083",
     "locked": true,
     "schema_version": 1,
     "solution": false
    }
   },
   "source": [
    "### Evaluate the Model"
   ]
  },
  {
   "cell_type": "code",
   "execution_count": null,
   "metadata": {
    "colab": {
     "base_uri": "https://localhost:8080/"
    },
    "deletable": false,
    "id": "VZtqBqFFy62R",
    "nbgrader": {
     "checksum": "23d25fc65c46b547813dd70c27f186ed",
     "grade": false,
     "grade_id": "cell-d5ba60ad5c246d6f",
     "locked": false,
     "schema_version": 1,
     "solution": true
    },
    "outputId": "170142ce-4302-4004-e4fc-872525fd7e33"
   },
   "outputs": [
    {
     "name": "stdout",
     "output_type": "stream",
     "text": [
      " 25/313 [=>............................] - ETA: 1s - loss: 0.2508 - accuracy: 0.9125"
     ]
    }
   ],
   "source": [
    "# Get the score of the model\n",
    "# YOUR CODE HERE\n",
    "score = model.evaluate(x_test, y_test)\n",
    "assert(score[1] > .88)\n",
    "print(\"Test accuracy:\", score[1])"
   ]
  },
  {
   "cell_type": "code",
   "execution_count": null,
   "metadata": {
    "deletable": false,
    "editable": false,
    "nbgrader": {
     "checksum": "00440481adeb65629a564724894e1cb2",
     "grade": true,
     "grade_id": "cell-39e99358da580a98",
     "locked": true,
     "points": 2,
     "schema_version": 1,
     "solution": false
    }
   },
   "outputs": [],
   "source": []
  },
  {
   "cell_type": "markdown",
   "metadata": {
    "deletable": false,
    "editable": false,
    "id": "mkfv-uxljt2Z",
    "nbgrader": {
     "checksum": "a5e8daf0e597006f63d0cb7007171872",
     "grade": false,
     "grade_id": "cell-8af9dc9bfb5ba878",
     "locked": true,
     "schema_version": 1,
     "solution": false
    }
   },
   "source": [
    "Back to Fashion MNIST. Let's see what the **[state of the art (SOTA)](https://paperswithcode.com/sota/image-classification-on-fashion-mnist)** accuracy is.\n",
    "\n",
    "It is **96.91%**!\n",
    "\n",
    "<br>\n",
    "\n",
    "\n",
    "**Challenge: Can you get to SOTA by playing around with the architecture of the network?**\n",
    "\n"
   ]
  },
  {
   "cell_type": "markdown",
   "metadata": {
    "deletable": false,
    "editable": false,
    "id": "tGIliIJONVMX",
    "nbgrader": {
     "checksum": "1c09b55c98881f5b1723461478fc19dc",
     "grade": false,
     "grade_id": "cell-fe07e9cca911f6b4",
     "locked": true,
     "schema_version": 1,
     "solution": false
    }
   },
   "source": [
    "## Conclusion\n",
    "\n",
    "We have built a Deep Learning model that can classify grayscale images of clothing items with over 90% accuracy!!\n",
    "\n",
    "\n",
    "\n",
    "---\n",
    "\n",
    "\n",
    "\n",
    "---\n",
    "\n"
   ]
  }
 ],
 "metadata": {
  "accelerator": "GPU",
  "colab": {
   "provenance": []
  },
  "kernelspec": {
   "display_name": "Python 3",
   "language": "python",
   "name": "python3"
  },
  "language_info": {
   "codemirror_mode": {
    "name": "ipython",
    "version": 3
   },
   "file_extension": ".py",
   "mimetype": "text/x-python",
   "name": "python",
   "nbconvert_exporter": "python",
   "pygments_lexer": "ipython3",
   "version": "3.6.9"
  }
 },
 "nbformat": 4,
 "nbformat_minor": 1
}
